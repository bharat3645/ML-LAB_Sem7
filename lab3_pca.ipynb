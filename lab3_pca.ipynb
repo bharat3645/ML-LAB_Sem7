{
  "cells": [
    {
      "cell_type": "markdown",
      "metadata": {},
      "source": [
        "Lab 3: Principal Component Analysis (PCA)\nThis script demonstrates PCA for dimensionality reduction."
      ]
    },
    {
      "cell_type": "code",
      "execution_count": null,
      "metadata": {},
      "outputs": [],
      "source": [
        "\nimport numpy as np\nimport pandas as pd\nimport matplotlib.pyplot as plt\nfrom sklearn.decomposition import PCA\nfrom sklearn.preprocessing import StandardScaler\nfrom sklearn.datasets import load_iris, load_breast_cancer\n"
      ]
    },
    {
      "cell_type": "code",
      "execution_count": null,
      "metadata": {},
      "outputs": [],
      "source": [
        "def perform_pca_on_iris():\n    \"\"\"Perform PCA on Iris dataset\"\"\"\n    print(\"=\" * 50)\n    print(\"PCA on Iris Dataset\")\n    print(\"=\" * 50)\n    \n    # Load dataset\n    iris = load_iris()\n    X = iris.data\n    y = iris.target\n    \n    print(f\"\\nOriginal data shape: {X.shape}\")\n    print(f\"Features: {iris.feature_names}\")\n    \n    # Standardize the data\n    scaler = StandardScaler()\n    X_scaled = scaler.fit_transform(X)\n    \n    # Apply PCA\n    pca = PCA(n_components=2)\n    X_pca = pca.fit_transform(X_scaled)\n    \n    print(f\"\\nReduced data shape: {X_pca.shape}\")\n    print(f\"\\nExplained variance ratio: {pca.explained_variance_ratio_}\")\n    print(f\"Total variance explained: {sum(pca.explained_variance_ratio_):.4f}\")\n    \n    # Visualize PCA results\n    plt.figure(figsize=(10, 6))\n    colors = ['red', 'green', 'blue']\n    for i, color in enumerate(colors):\n        plt.scatter(X_pca[y == i, 0], X_pca[y == i, 1], \n                   c=color, label=iris.target_names[i], alpha=0.6)\n    \n    plt.xlabel(f'PC1 ({pca.explained_variance_ratio_[0]:.2%} variance)')\n    plt.ylabel(f'PC2 ({pca.explained_variance_ratio_[1]:.2%} variance)')\n    plt.title('PCA of Iris Dataset')\n    plt.legend()\n    plt.grid(True)\n    plt.savefig('lab3_iris_pca.png')\n    plt.close()\n    print(\"\\nPCA visualization saved as 'lab3_iris_pca.png'\")\n    \n    return X_pca, pca\n"
      ]
    },
    {
      "cell_type": "code",
      "execution_count": null,
      "metadata": {},
      "outputs": [],
      "source": [
        "def analyze_components():\n    \"\"\"Analyze PCA components and variance\"\"\"\n    print(\"\\n\" + \"=\" * 50)\n    print(\"Component Analysis\")\n    print(\"=\" * 50)\n    \n    # Load dataset\n    cancer = load_breast_cancer()\n    X = cancer.data\n    \n    print(f\"\\nOriginal data shape: {X.shape}\")\n    \n    # Standardize\n    scaler = StandardScaler()\n    X_scaled = scaler.fit_transform(X)\n    \n    # Apply PCA with all components\n    pca_full = PCA()\n    pca_full.fit(X_scaled)\n    \n    # Calculate cumulative variance\n    cumsum_variance = np.cumsum(pca_full.explained_variance_ratio_)\n    \n    print(f\"\\nVariance explained by each component:\")\n    for i, var in enumerate(pca_full.explained_variance_ratio_[:5]):\n        print(f\"PC{i+1}: {var:.4f}\")\n    \n    # Find number of components for 95% variance\n    n_components_95 = np.argmax(cumsum_variance >= 0.95) + 1\n    print(f\"\\nComponents needed for 95% variance: {n_components_95}\")\n    \n    # Plot explained variance\n    plt.figure(figsize=(12, 5))\n    \n    plt.subplot(1, 2, 1)\n    plt.bar(range(1, len(pca_full.explained_variance_ratio_[:10]) + 1),\n            pca_full.explained_variance_ratio_[:10])\n    plt.xlabel('Principal Component')\n    plt.ylabel('Variance Explained')\n    plt.title('Explained Variance by Component (Top 10)')\n    plt.grid(True, alpha=0.3)\n    \n    plt.subplot(1, 2, 2)\n    plt.plot(range(1, len(cumsum_variance) + 1), cumsum_variance, 'bo-')\n    plt.axhline(y=0.95, color='r', linestyle='--', label='95% Variance')\n    plt.xlabel('Number of Components')\n    plt.ylabel('Cumulative Variance Explained')\n    plt.title('Cumulative Variance Explained')\n    plt.legend()\n    plt.grid(True, alpha=0.3)\n    \n    plt.tight_layout()\n    plt.savefig('lab3_variance_analysis.png')\n    plt.close()\n    print(\"\\nVariance analysis saved as 'lab3_variance_analysis.png'\")\n"
      ]
    },
    {
      "cell_type": "code",
      "execution_count": null,
      "metadata": {},
      "outputs": [],
      "source": [
        "def manual_pca_implementation():\n    \"\"\"Implement PCA manually using eigenvalue decomposition\"\"\"\n    print(\"\\n\" + \"=\" * 50)\n    print(\"Manual PCA Implementation\")\n    print(\"=\" * 50)\n    \n    # Create sample data\n    np.random.seed(42)\n    X = np.random.randn(100, 3)\n    \n    print(f\"\\nOriginal data shape: {X.shape}\")\n    \n    # Step 1: Standardize the data\n    X_mean = np.mean(X, axis=0)\n    X_std = X - X_mean\n    \n    # Step 2: Calculate covariance matrix\n    cov_matrix = np.cov(X_std.T)\n    print(f\"\\nCovariance matrix shape: {cov_matrix.shape}\")\n    \n    # Step 3: Calculate eigenvalues and eigenvectors\n    eigenvalues, eigenvectors = np.linalg.eig(cov_matrix)\n    \n    # Step 4: Sort by eigenvalues\n    idx = eigenvalues.argsort()[::-1]\n    eigenvalues = eigenvalues[idx]\n    eigenvectors = eigenvectors[:, idx]\n    \n    print(f\"\\nEigenvalues: {eigenvalues}\")\n    print(f\"Variance explained: {eigenvalues / eigenvalues.sum()}\")\n    \n    # Step 5: Project data onto principal components\n    n_components = 2\n    X_pca_manual = X_std.dot(eigenvectors[:, :n_components])\n    \n    print(f\"\\nReduced data shape: {X_pca_manual.shape}\")\n    \n    # Compare with sklearn\n    pca_sklearn = PCA(n_components=2)\n    X_pca_sklearn = pca_sklearn.fit_transform(X_std)\n    \n    print(f\"\\nManual PCA first 5 rows:\\n{X_pca_manual[:5]}\")\n    print(f\"\\nSklearn PCA first 5 rows:\\n{X_pca_sklearn[:5]}\")\n    print(\"\\nNote: Signs may differ but magnitudes should be similar\")\n"
      ]
    },
    {
      "cell_type": "code",
      "execution_count": null,
      "metadata": {},
      "outputs": [],
      "source": [
        "def dimensionality_reduction_comparison():\n    \"\"\"Compare data before and after dimensionality reduction\"\"\"\n    print(\"\\n\" + \"=\" * 50)\n    print(\"Dimensionality Reduction Comparison\")\n    print(\"=\" * 50)\n    \n    # Load dataset\n    iris = load_iris()\n    X = iris.data\n    \n    # Standardize\n    scaler = StandardScaler()\n    X_scaled = scaler.fit_transform(X)\n    \n    # Apply PCA with different number of components\n    components = [1, 2, 3]\n    \n    print(f\"\\nOriginal shape: {X.shape}\")\n    \n    for n_comp in components:\n        pca = PCA(n_components=n_comp)\n        X_reduced = pca.fit_transform(X_scaled)\n        variance_explained = sum(pca.explained_variance_ratio_)\n        \n        print(f\"\\nWith {n_comp} component(s):\")\n        print(f\"  Reduced shape: {X_reduced.shape}\")\n        print(f\"  Variance explained: {variance_explained:.4f}\")\n        \n        # Reconstruct data\n        X_reconstructed = pca.inverse_transform(X_reduced)\n        reconstruction_error = np.mean((X_scaled - X_reconstructed) ** 2)\n        print(f\"  Reconstruction error: {reconstruction_error:.6f}\")\n"
      ]
    },
    {
      "cell_type": "code",
      "execution_count": null,
      "metadata": {},
      "outputs": [],
      "source": [
        "def main():\n    \"\"\"Main function to demonstrate PCA\"\"\"\n    print(\"\\n\" + \"=\" * 50)\n    print(\"Lab 3: Principal Component Analysis (PCA)\")\n    print(\"=\" * 50)\n    \n    # Perform PCA on Iris dataset\n    perform_pca_on_iris()\n    \n    # Analyze components\n    analyze_components()\n    \n    # Manual PCA implementation\n    manual_pca_implementation()\n    \n    # Dimensionality reduction comparison\n    dimensionality_reduction_comparison()\n    \n    print(\"\\n\" + \"=\" * 50)\n    print(\"Lab 3 Complete!\")\n    print(\"=\" * 50)\n"
      ]
    },
    {
      "cell_type": "code",
      "execution_count": null,
      "metadata": {},
      "outputs": [],
      "source": [
        "if __name__ == \"__main__\":\n    main()\n"
      ]
    }
  ],
  "metadata": {
    "kernelspec": {
      "display_name": "Python 3",
      "language": "python",
      "name": "python3"
    },
    "language_info": {
      "codemirror_mode": {
        "name": "ipython",
        "version": 3
      },
      "file_extension": ".py",
      "mimetype": "text/x-python",
      "name": "python",
      "nbconvert_exporter": "python",
      "pygments_lexer": "ipython3",
      "version": "3.8.0"
    }
  },
  "nbformat": 4,
  "nbformat_minor": 4
}