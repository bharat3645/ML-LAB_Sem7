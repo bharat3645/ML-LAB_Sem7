{
  "cells": [
    {
      "cell_type": "markdown",
      "metadata": {},
      "source": [
        "Lab 12: Association Rule Mining\nThis script demonstrates Association Rule Mining (Market Basket Analysis)."
      ]
    },
    {
      "cell_type": "code",
      "execution_count": null,
      "metadata": {},
      "outputs": [],
      "source": [
        "\nimport numpy as np\nimport pandas as pd\nimport matplotlib.pyplot as plt\nfrom itertools import combinations\n"
      ]
    },
    {
      "cell_type": "code",
      "execution_count": null,
      "metadata": {},
      "outputs": [],
      "source": [
        "def create_transaction_data():\n    \"\"\"Create sample transaction data\"\"\"\n    transactions = [\n        ['Milk', 'Bread', 'Butter'],\n        ['Beer', 'Diapers', 'Bread'],\n        ['Milk', 'Diapers', 'Beer', 'Butter'],\n        ['Milk', 'Bread', 'Butter', 'Beer'],\n        ['Bread', 'Milk', 'Diapers'],\n        ['Bread', 'Butter'],\n        ['Beer', 'Diapers'],\n        ['Milk', 'Bread', 'Butter', 'Beer'],\n        ['Milk', 'Bread'],\n        ['Bread', 'Butter', 'Diapers']\n    ]\n    return transactions\n"
      ]
    },
    {
      "cell_type": "code",
      "execution_count": null,
      "metadata": {},
      "outputs": [],
      "source": [
        "def calculate_support(transactions, itemset):\n    \"\"\"Calculate support for an itemset\"\"\"\n    count = 0\n    for transaction in transactions:\n        if set(itemset).issubset(set(transaction)):\n            count += 1\n    return count / len(transactions)\n"
      ]
    },
    {
      "cell_type": "code",
      "execution_count": null,
      "metadata": {},
      "outputs": [],
      "source": [
        "def calculate_confidence(transactions, antecedent, consequent):\n    \"\"\"Calculate confidence for a rule\"\"\"\n    antecedent_support = calculate_support(transactions, antecedent)\n    if antecedent_support == 0:\n        return 0\n    \n    rule_support = calculate_support(transactions, antecedent + consequent)\n    return rule_support / antecedent_support\n"
      ]
    },
    {
      "cell_type": "code",
      "execution_count": null,
      "metadata": {},
      "outputs": [],
      "source": [
        "def calculate_lift(transactions, antecedent, consequent):\n    \"\"\"Calculate lift for a rule\"\"\"\n    rule_confidence = calculate_confidence(transactions, antecedent, consequent)\n    consequent_support = calculate_support(transactions, consequent)\n    \n    if consequent_support == 0:\n        return 0\n    \n    return rule_confidence / consequent_support\n"
      ]
    },
    {
      "cell_type": "code",
      "execution_count": null,
      "metadata": {},
      "outputs": [],
      "source": [
        "def get_frequent_itemsets(transactions, min_support=0.3):\n    \"\"\"Find frequent itemsets using Apriori algorithm\"\"\"\n    print(\"=\" * 50)\n    print(\"Finding Frequent Itemsets (Apriori)\")\n    print(\"=\" * 50)\n    \n    # Get all unique items\n    all_items = set()\n    for transaction in transactions:\n        all_items.update(transaction)\n    \n    all_items = sorted(list(all_items))\n    print(f\"\\nAll items: {all_items}\")\n    print(f\"Number of transactions: {len(transactions)}\")\n    print(f\"Minimum support threshold: {min_support}\")\n    \n    # Find frequent 1-itemsets\n    frequent_itemsets = {}\n    \n    print(\"\\n--- Frequent 1-itemsets ---\")\n    for item in all_items:\n        support = calculate_support(transactions, [item])\n        if support >= min_support:\n            frequent_itemsets[frozenset([item])] = support\n            print(f\"{{{item}}}: support = {support:.3f}\")\n    \n    # Find frequent k-itemsets (k > 1)\n    k = 2\n    while True:\n        # Generate candidate itemsets\n        previous_itemsets = list(frequent_itemsets.keys())\n        candidates = set()\n        \n        for i in range(len(previous_itemsets)):\n            for j in range(i + 1, len(previous_itemsets)):\n                union = previous_itemsets[i] | previous_itemsets[j]\n                if len(union) == k:\n                    candidates.add(union)\n        \n        if not candidates:\n            break\n        \n        print(f\"\\n--- Frequent {k}-itemsets ---\")\n        new_frequent = {}\n        for candidate in candidates:\n            support = calculate_support(transactions, list(candidate))\n            if support >= min_support:\n                new_frequent[candidate] = support\n                print(f\"{set(candidate)}: support = {support:.3f}\")\n        \n        if not new_frequent:\n            break\n        \n        frequent_itemsets.update(new_frequent)\n        k += 1\n    \n    return frequent_itemsets\n"
      ]
    },
    {
      "cell_type": "code",
      "execution_count": null,
      "metadata": {},
      "outputs": [],
      "source": [
        "def generate_association_rules(transactions, frequent_itemsets, min_confidence=0.6):\n    \"\"\"Generate association rules from frequent itemsets\"\"\"\n    print(\"\\n\" + \"=\" * 50)\n    print(\"Generating Association Rules\")\n    print(\"=\" * 50)\n    \n    print(f\"\\nMinimum confidence threshold: {min_confidence}\")\n    \n    rules = []\n    \n    # Generate rules from itemsets with 2 or more items\n    for itemset in frequent_itemsets:\n        if len(itemset) < 2:\n            continue\n        \n        # Generate all possible rules\n        items = list(itemset)\n        for i in range(1, len(items)):\n            for antecedent_items in combinations(items, i):\n                antecedent = list(antecedent_items)\n                consequent = [item for item in items if item not in antecedent]\n                \n                confidence = calculate_confidence(transactions, antecedent, consequent)\n                \n                if confidence >= min_confidence:\n                    support = frequent_itemsets[itemset]\n                    lift = calculate_lift(transactions, antecedent, consequent)\n                    \n                    rules.append({\n                        'antecedent': antecedent,\n                        'consequent': consequent,\n                        'support': support,\n                        'confidence': confidence,\n                        'lift': lift\n                    })\n    \n    # Sort rules by confidence\n    rules = sorted(rules, key=lambda x: x['confidence'], reverse=True)\n    \n    print(f\"\\nTotal rules found: {len(rules)}\")\n    print(\"\\nTop Association Rules:\")\n    print(\"-\" * 80)\n    print(f\"{'Rule':<40} {'Support':<10} {'Confidence':<12} {'Lift':<10}\")\n    print(\"-\" * 80)\n    \n    for rule in rules[:10]:\n        antecedent_str = ', '.join(rule['antecedent'])\n        consequent_str = ', '.join(rule['consequent'])\n        rule_str = f\"{{{antecedent_str}}} \u2192 {{{consequent_str}}}\"\n        print(f\"{rule_str:<40} {rule['support']:.3f}{'':<5} \"\n              f\"{rule['confidence']:.3f}{'':<7} {rule['lift']:.3f}\")\n    \n    return rules\n"
      ]
    },
    {
      "cell_type": "code",
      "execution_count": null,
      "metadata": {},
      "outputs": [],
      "source": [
        "def visualize_rules(rules):\n    \"\"\"Visualize association rules\"\"\"\n    print(\"\\n\" + \"=\" * 50)\n    print(\"Visualizing Association Rules\")\n    print(\"=\" * 50)\n    \n    if not rules:\n        print(\"\\nNo rules to visualize\")\n        return\n    \n    # Extract metrics\n    supports = [rule['support'] for rule in rules]\n    confidences = [rule['confidence'] for rule in rules]\n    lifts = [rule['lift'] for rule in rules]\n    \n    # Create scatter plot\n    plt.figure(figsize=(12, 5))\n    \n    # Plot 1: Support vs Confidence\n    plt.subplot(1, 2, 1)\n    scatter = plt.scatter(supports, confidences, c=lifts, cmap='viridis', \n                         s=100, alpha=0.6, edgecolors='black')\n    plt.colorbar(scatter, label='Lift')\n    plt.xlabel('Support')\n    plt.ylabel('Confidence')\n    plt.title('Association Rules: Support vs Confidence')\n    plt.grid(True, alpha=0.3)\n    \n    # Plot 2: Bar chart of top rules by lift\n    plt.subplot(1, 2, 2)\n    top_rules = sorted(rules, key=lambda x: x['lift'], reverse=True)[:8]\n    rule_labels = []\n    rule_lifts = []\n    \n    for rule in top_rules:\n        ant = ', '.join(rule['antecedent'][:2])  # Show first 2 items\n        cons = ', '.join(rule['consequent'][:1])  # Show first item\n        label = f\"{{{ant}}} \u2192 {{{cons}}}\"\n        rule_labels.append(label)\n        rule_lifts.append(rule['lift'])\n    \n    plt.barh(range(len(rule_labels)), rule_lifts, color='skyblue', edgecolor='black')\n    plt.yticks(range(len(rule_labels)), rule_labels, fontsize=8)\n    plt.xlabel('Lift')\n    plt.title('Top 8 Rules by Lift')\n    plt.grid(True, alpha=0.3, axis='x')\n    \n    plt.tight_layout()\n    plt.savefig('lab12_association_rules.png', dpi=100)\n    plt.close()\n    print(\"\\nAssociation rules plot saved as 'lab12_association_rules.png'\")\n"
      ]
    },
    {
      "cell_type": "code",
      "execution_count": null,
      "metadata": {},
      "outputs": [],
      "source": [
        "def analyze_item_frequency():\n    \"\"\"Analyze frequency of items in transactions\"\"\"\n    print(\"\\n\" + \"=\" * 50)\n    print(\"Item Frequency Analysis\")\n    print(\"=\" * 50)\n    \n    transactions = create_transaction_data()\n    \n    # Count item frequencies\n    item_counts = {}\n    for transaction in transactions:\n        for item in transaction:\n            item_counts[item] = item_counts.get(item, 0) + 1\n    \n    # Sort by frequency\n    sorted_items = sorted(item_counts.items(), key=lambda x: x[1], reverse=True)\n    \n    print(\"\\nItem Frequencies:\")\n    for item, count in sorted_items:\n        support = count / len(transactions)\n        print(f\"{item}: {count} transactions (support = {support:.3f})\")\n    \n    # Visualize\n    items = [item for item, _ in sorted_items]\n    counts = [count for _, count in sorted_items]\n    \n    plt.figure(figsize=(10, 6))\n    plt.bar(items, counts, color='lightblue', edgecolor='black')\n    plt.xlabel('Items')\n    plt.ylabel('Frequency')\n    plt.title('Item Frequency in Transactions')\n    plt.grid(True, alpha=0.3, axis='y')\n    \n    for i, (item, count) in enumerate(zip(items, counts)):\n        plt.text(i, count + 0.1, str(count), ha='center')\n    \n    plt.tight_layout()\n    plt.savefig('lab12_item_frequency.png')\n    plt.close()\n    print(\"\\nItem frequency plot saved as 'lab12_item_frequency.png'\")\n"
      ]
    },
    {
      "cell_type": "code",
      "execution_count": null,
      "metadata": {},
      "outputs": [],
      "source": [
        "def interpret_metrics():\n    \"\"\"Explain the meaning of support, confidence, and lift\"\"\"\n    print(\"\\n\" + \"=\" * 50)\n    print(\"Understanding Metrics\")\n    print(\"=\" * 50)\n    \n    print(\"\\n1. SUPPORT:\")\n    print(\"   - Measures how frequently an itemset appears in the dataset\")\n    print(\"   - Support(A) = (Transactions containing A) / (Total transactions)\")\n    print(\"   - Higher support = more frequent itemset\")\n    \n    print(\"\\n2. CONFIDENCE:\")\n    print(\"   - Measures the likelihood that B is purchased when A is purchased\")\n    print(\"   - Confidence(A \u2192 B) = Support(A \u222a B) / Support(A)\")\n    print(\"   - Higher confidence = stronger rule\")\n    \n    print(\"\\n3. LIFT:\")\n    print(\"   - Measures how much more likely B is purchased when A is purchased\")\n    print(\"   - Lift(A \u2192 B) = Confidence(A \u2192 B) / Support(B)\")\n    print(\"   - Lift > 1: A and B are positively correlated\")\n    print(\"   - Lift = 1: A and B are independent\")\n    print(\"   - Lift < 1: A and B are negatively correlated\")\n"
      ]
    },
    {
      "cell_type": "code",
      "execution_count": null,
      "metadata": {},
      "outputs": [],
      "source": [
        "def real_world_example():\n    \"\"\"Real-world market basket analysis example\"\"\"\n    print(\"\\n\" + \"=\" * 50)\n    print(\"Real-World Example: Supermarket Analysis\")\n    print(\"=\" * 50)\n    \n    # Create more realistic transaction data\n    transactions = [\n        ['Bread', 'Milk', 'Eggs', 'Butter'],\n        ['Bread', 'Butter', 'Jam'],\n        ['Milk', 'Eggs', 'Cheese'],\n        ['Bread', 'Milk', 'Butter'],\n        ['Coffee', 'Sugar', 'Milk'],\n        ['Bread', 'Butter', 'Eggs'],\n        ['Tea', 'Sugar', 'Milk'],\n        ['Bread', 'Milk', 'Butter', 'Cheese'],\n        ['Coffee', 'Sugar', 'Cream'],\n        ['Bread', 'Butter'],\n        ['Milk', 'Eggs', 'Butter'],\n        ['Bread', 'Milk', 'Eggs'],\n        ['Tea', 'Sugar'],\n        ['Coffee', 'Milk', 'Sugar'],\n        ['Bread', 'Butter', 'Milk']\n    ]\n    \n    print(f\"\\nAnalyzing {len(transactions)} supermarket transactions\")\n    \n    # Find frequent itemsets\n    frequent_itemsets = {}\n    min_support = 0.25\n    \n    all_items = set()\n    for transaction in transactions:\n        all_items.update(transaction)\n    \n    # Check 1-itemsets\n    for item in all_items:\n        support = calculate_support(transactions, [item])\n        if support >= min_support:\n            frequent_itemsets[frozenset([item])] = support\n    \n    # Check 2-itemsets\n    for item1, item2 in combinations(all_items, 2):\n        support = calculate_support(transactions, [item1, item2])\n        if support >= min_support:\n            frequent_itemsets[frozenset([item1, item2])] = support\n    \n    print(f\"\\nFrequent itemsets (min_support={min_support}):\")\n    for itemset, support in sorted(frequent_itemsets.items(), \n                                   key=lambda x: x[1], reverse=True):\n        if len(itemset) > 1:\n            print(f\"  {set(itemset)}: {support:.3f}\")\n    \n    # Generate rules\n    print(\"\\nKey Insights:\")\n    \n    # Specific rule examples\n    if calculate_confidence(transactions, ['Bread'], ['Butter']) >= 0.5:\n        conf = calculate_confidence(transactions, ['Bread'], ['Butter'])\n        print(f\"  \u2022 Customers who buy Bread often buy Butter (confidence: {conf:.3f})\")\n    \n    if calculate_confidence(transactions, ['Coffee', 'Sugar'], ['Milk']) >= 0.5:\n        conf = calculate_confidence(transactions, ['Coffee', 'Sugar'], ['Milk'])\n        print(f\"  \u2022 Coffee and Sugar buyers often add Milk (confidence: {conf:.3f})\")\n"
      ]
    },
    {
      "cell_type": "code",
      "execution_count": null,
      "metadata": {},
      "outputs": [],
      "source": [
        "def main():\n    \"\"\"Main function to demonstrate association rule mining\"\"\"\n    print(\"\\n\" + \"=\" * 50)\n    print(\"Lab 12: Association Rule Mining\")\n    print(\"=\" * 50)\n    \n    # Create transaction data\n    transactions = create_transaction_data()\n    \n    print(\"\\nSample Transactions:\")\n    for i, transaction in enumerate(transactions[:5], 1):\n        print(f\"  Transaction {i}: {transaction}\")\n    print(f\"  ... and {len(transactions) - 5} more transactions\")\n    \n    # Analyze item frequency\n    analyze_item_frequency()\n    \n    # Find frequent itemsets\n    frequent_itemsets = get_frequent_itemsets(transactions, min_support=0.3)\n    \n    # Generate association rules\n    rules = generate_association_rules(transactions, frequent_itemsets, \n                                       min_confidence=0.6)\n    \n    # Visualize rules\n    visualize_rules(rules)\n    \n    # Interpret metrics\n    interpret_metrics()\n    \n    # Real-world example\n    real_world_example()\n    \n    print(\"\\n\" + \"=\" * 50)\n    print(\"Lab 12 Complete!\")\n    print(\"=\" * 50)\n"
      ]
    },
    {
      "cell_type": "code",
      "execution_count": null,
      "metadata": {},
      "outputs": [],
      "source": [
        "if __name__ == \"__main__\":\n    main()\n"
      ]
    }
  ],
  "metadata": {
    "kernelspec": {
      "display_name": "Python 3",
      "language": "python",
      "name": "python3"
    },
    "language_info": {
      "codemirror_mode": {
        "name": "ipython",
        "version": 3
      },
      "file_extension": ".py",
      "mimetype": "text/x-python",
      "name": "python",
      "nbconvert_exporter": "python",
      "pygments_lexer": "ipython3",
      "version": "3.8.0"
    }
  },
  "nbformat": 4,
  "nbformat_minor": 4
}