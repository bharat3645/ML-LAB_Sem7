{
  "cells": [
    {
      "cell_type": "markdown",
      "metadata": {},
      "source": [
        "Lab 1: Introduction to ML Tools and Libraries\nThis script demonstrates the basic usage of popular ML tools and libraries."
      ]
    },
    {
      "cell_type": "code",
      "execution_count": null,
      "metadata": {},
      "outputs": [],
      "source": [
        "\nimport numpy as np\nimport pandas as pd\nimport matplotlib.pyplot as plt\nimport seaborn as sns\nfrom sklearn import datasets\nfrom sklearn.model_selection import train_test_split\n"
      ]
    },
    {
      "cell_type": "code",
      "execution_count": null,
      "metadata": {},
      "outputs": [],
      "source": [
        "def demonstrate_numpy():\n    \"\"\"Demonstrate NumPy operations\"\"\"\n    print(\"=\" * 50)\n    print(\"NumPy Demonstrations\")\n    print(\"=\" * 50)\n    \n    # Creating arrays\n    arr1 = np.array([1, 2, 3, 4, 5])\n    print(f\"1D Array: {arr1}\")\n    \n    arr2 = np.array([[1, 2, 3], [4, 5, 6]])\n    print(f\"\\n2D Array:\\n{arr2}\")\n    \n    # Array operations\n    print(f\"\\nMean: {np.mean(arr1)}\")\n    print(f\"Standard Deviation: {np.std(arr1)}\")\n    print(f\"Sum: {np.sum(arr1)}\")\n    \n    # Matrix operations\n    matrix_a = np.array([[1, 2], [3, 4]])\n    matrix_b = np.array([[5, 6], [7, 8]])\n    print(f\"\\nMatrix Multiplication:\\n{np.dot(matrix_a, matrix_b)}\")\n"
      ]
    },
    {
      "cell_type": "code",
      "execution_count": null,
      "metadata": {},
      "outputs": [],
      "source": [
        "def demonstrate_pandas():\n    \"\"\"Demonstrate Pandas operations\"\"\"\n    print(\"\\n\" + \"=\" * 50)\n    print(\"Pandas Demonstrations\")\n    print(\"=\" * 50)\n    \n    # Creating a DataFrame\n    data = {\n        'Name': ['Alice', 'Bob', 'Charlie', 'David', 'Eve'],\n        'Age': [25, 30, 35, 28, 32],\n        'Score': [85, 90, 78, 92, 88]\n    }\n    df = pd.DataFrame(data)\n    print(\"\\nDataFrame:\")\n    print(df)\n    \n    # Basic statistics\n    print(\"\\nBasic Statistics:\")\n    print(df.describe())\n    \n    # Filtering\n    print(\"\\nFiltered Data (Age > 28):\")\n    print(df[df['Age'] > 28])\n"
      ]
    },
    {
      "cell_type": "code",
      "execution_count": null,
      "metadata": {},
      "outputs": [],
      "source": [
        "def demonstrate_matplotlib():\n    \"\"\"Demonstrate Matplotlib visualizations\"\"\"\n    print(\"\\n\" + \"=\" * 50)\n    print(\"Matplotlib Demonstrations\")\n    print(\"=\" * 50)\n    \n    # Simple line plot\n    x = np.linspace(0, 10, 100)\n    y = np.sin(x)\n    \n    plt.figure(figsize=(10, 4))\n    \n    plt.subplot(1, 2, 1)\n    plt.plot(x, y)\n    plt.title('Sine Wave')\n    plt.xlabel('X')\n    plt.ylabel('Y')\n    plt.grid(True)\n    \n    # Scatter plot\n    plt.subplot(1, 2, 2)\n    x_scatter = np.random.randn(50)\n    y_scatter = np.random.randn(50)\n    plt.scatter(x_scatter, y_scatter, alpha=0.5)\n    plt.title('Random Scatter Plot')\n    plt.xlabel('X')\n    plt.ylabel('Y')\n    plt.grid(True)\n    \n    plt.tight_layout()\n    plt.savefig('lab1_plots.png')\n    print(\"Plots saved as 'lab1_plots.png'\")\n    plt.close()\n"
      ]
    },
    {
      "cell_type": "code",
      "execution_count": null,
      "metadata": {},
      "outputs": [],
      "source": [
        "def demonstrate_sklearn():\n    \"\"\"Demonstrate scikit-learn basics\"\"\"\n    print(\"\\n\" + \"=\" * 50)\n    print(\"Scikit-learn Demonstrations\")\n    print(\"=\" * 50)\n    \n    # Load sample dataset\n    iris = datasets.load_iris()\n    print(f\"\\nDataset: Iris\")\n    print(f\"Features: {iris.feature_names}\")\n    print(f\"Target names: {iris.target_names}\")\n    print(f\"Shape: {iris.data.shape}\")\n    \n    # Split data\n    X_train, X_test, y_train, y_test = train_test_split(\n        iris.data, iris.target, test_size=0.3, random_state=42\n    )\n    print(f\"\\nTraining set size: {X_train.shape[0]}\")\n    print(f\"Test set size: {X_test.shape[0]}\")\n"
      ]
    },
    {
      "cell_type": "code",
      "execution_count": null,
      "metadata": {},
      "outputs": [],
      "source": [
        "def main():\n    \"\"\"Main function to run all demonstrations\"\"\"\n    print(\"\\n\" + \"=\" * 50)\n    print(\"Lab 1: Introduction to ML Tools and Libraries\")\n    print(\"=\" * 50)\n    \n    demonstrate_numpy()\n    demonstrate_pandas()\n    demonstrate_matplotlib()\n    demonstrate_sklearn()\n    \n    print(\"\\n\" + \"=\" * 50)\n    print(\"Lab 1 Complete!\")\n    print(\"=\" * 50)\n"
      ]
    },
    {
      "cell_type": "code",
      "execution_count": null,
      "metadata": {},
      "outputs": [],
      "source": [
        "if __name__ == \"__main__\":\n    main()\n"
      ]
    }
  ],
  "metadata": {
    "kernelspec": {
      "display_name": "Python 3",
      "language": "python",
      "name": "python3"
    },
    "language_info": {
      "codemirror_mode": {
        "name": "ipython",
        "version": 3
      },
      "file_extension": ".py",
      "mimetype": "text/x-python",
      "name": "python",
      "nbconvert_exporter": "python",
      "pygments_lexer": "ipython3",
      "version": "3.8.0"
    }
  },
  "nbformat": 4,
  "nbformat_minor": 4
}